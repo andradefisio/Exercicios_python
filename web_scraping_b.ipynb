{
  "nbformat": 4,
  "nbformat_minor": 0,
  "metadata": {
    "colab": {
      "provenance": [],
      "authorship_tag": "ABX9TyMPbssyDH39O5e/WesSkXi4"
    },
    "kernelspec": {
      "name": "python3",
      "display_name": "Python 3"
    },
    "language_info": {
      "name": "python"
    }
  },
  "cells": [
    {
      "cell_type": "markdown",
      "source": [
        "Importando as bibliotecas:"
      ],
      "metadata": {
        "id": "oQs06kBkgutQ"
      }
    },
    {
      "cell_type": "code",
      "execution_count": null,
      "metadata": {
        "id": "7Vc0Voh5ge38"
      },
      "outputs": [],
      "source": [
        "import requests\n",
        "from bs4 import BeautifulSoup\n",
        "import pandas as pd\n"
      ]
    },
    {
      "cell_type": "code",
      "source": [
        "# página a ser realizado o web scraping:\n",
        "\n",
        "https://statisticstimes.com/tech/top-computer-languages.php\n",
        "\n",
        "# Tabela demonstrando as \"top languages\" de programação. "
      ],
      "metadata": {
        "id": "HnWCC_IZhH6M"
      },
      "execution_count": null,
      "outputs": []
    },
    {
      "cell_type": "code",
      "source": [
        "# coletar a página:\n",
        "\n",
        "html = requests.get(\"https://statisticstimes.com/tech/top-computer-languages.php\").content\n",
        "soup = BeautifulSoup(html,'html5lib') #parseador de html"
      ],
      "metadata": {
        "id": "7V-PgR9yheJX"
      },
      "execution_count": null,
      "outputs": []
    },
    {
      "cell_type": "code",
      "source": [
        "# identificando o conteúdo do primeiro parágrafo\n",
        "\n",
        "primeiro_paragrafo = soup.find('p')\n",
        "primeiro_paragrafo"
      ],
      "metadata": {
        "colab": {
          "base_uri": "https://localhost:8080/"
        },
        "id": "4K9ZRq3DiJvH",
        "outputId": "23c47ba3-1d51-448e-b002-b58ff18a5286"
      },
      "execution_count": null,
      "outputs": [
        {
          "output_type": "execute_result",
          "data": {
            "text/plain": [
              "<p>Python is the top programming language in TIOBE and PYPL Index. C closely follow Top-ranked Python in TIOBE. \n",
              "In PYPL, a gap is wider as top-ranked Python has taken a lead of close to 10% from 2nd ranked Java.</p>"
            ]
          },
          "metadata": {},
          "execution_count": 7
        }
      ]
    },
    {
      "cell_type": "code",
      "source": [
        "# verificando o conteúdo do primeiro parágrafo (apenas o texto):\n",
        "\n",
        "primeiro_paragrafo.text\n"
      ],
      "metadata": {
        "colab": {
          "base_uri": "https://localhost:8080/",
          "height": 53
        },
        "id": "T4BSdMWdiPps",
        "outputId": "5003fb9c-6a43-44ea-fa28-9d32bd963c2f"
      },
      "execution_count": null,
      "outputs": [
        {
          "output_type": "execute_result",
          "data": {
            "text/plain": [
              "'Python is the top programming language in TIOBE and PYPL Index. C closely follow Top-ranked Python in TIOBE. \\nIn PYPL, a gap is wider as top-ranked Python has taken a lead of close to 10% from 2nd ranked Java.'"
            ],
            "application/vnd.google.colaboratory.intrinsic+json": {
              "type": "string"
            }
          },
          "metadata": {},
          "execution_count": 8
        }
      ]
    },
    {
      "cell_type": "code",
      "source": [
        "# buscando todos os paágrafos da páginas:\n",
        "\n",
        "todos_paragrafos = soup.find_all('p')\n",
        "todos_paragrafos"
      ],
      "metadata": {
        "colab": {
          "base_uri": "https://localhost:8080/"
        },
        "id": "36Za-Eymi2Uh",
        "outputId": "f1a2f739-322d-48bf-cf6e-016c8f453773"
      },
      "execution_count": null,
      "outputs": [
        {
          "output_type": "execute_result",
          "data": {
            "text/plain": [
              "[<p>Python is the top programming language in TIOBE and PYPL Index. C closely follow Top-ranked Python in TIOBE. \n",
              " In PYPL, a gap is wider as top-ranked Python has taken a lead of close to 10% from 2nd ranked Java.</p>,\n",
              " <p><b>TIOBE:</b> Python, C, Java and C++ are way ahead of others in TIOBE Index. C++ is about to surpass Java.\n",
              " C# and Visual Basic are very close to each other at 5th and 6th number. These four have negative\n",
              " trends in the past five years: Java, C, C#, and PHP. PHP was at 3rd position in Mar 2010 is now at 13th. \n",
              " Positions of Java and C have not been much affected, but their ratings are constantly declining. The rating\n",
              " of Java has declined from 26.49% in June 2001 to 10.47% in Jun 2022.</p>,\n",
              " <p><b>PYPL:</b> Acc to PYPL, which publishes separate ranking for five countries, Python is the top language in all five countries\n",
              " (US, India, Germany, United Kingdom, France). Python has taken a huge lead in these five countries over the 2nd number\n",
              " of Java, and its shares are even almost double of Java in fourFrance, United Kingdom and Germany. These two account for almost\n",
              " half (45%) of the global search. JavaScript has attained its all time highest share of 9.5% in Sep 2021. JavaScript is at 3rd \n",
              " position in US, India and United Kingdom and within top five in all five countries.</p>,\n",
              " <p>PHP is the biggest loser in recent years in PYPL. Its share was over 20% in 2008; now, this fig is only 5.27% in 2022. \n",
              " Java is too declining but not as fast as PHP. Java's contribution was over 31% in 2008, and still, it holds 18%. In \n",
              " 2004-2009, 50% of the search was of either Java or PHP.</p>,\n",
              " <p><b>TIOBE Index:</b> TIOBE ratings are calculated by counting hits of the most popular search engines. Twenty-five \n",
              " search engines are used to calculate the TIOBE index. The TIOBE Programming Community index is an indicator of the\n",
              "  popularity of programming languages. The index started in the year 2001 and updated once a month.</p>,\n",
              " <p><b>PYPL Index:</b> The PYPL PopularitY of Programming Language Index is created by analyzing how often language\n",
              "  tutorials are searched on Google. The index is updated once a month.</p>]"
            ]
          },
          "metadata": {},
          "execution_count": 9
        }
      ]
    },
    {
      "cell_type": "code",
      "source": [
        "# verificando o conteúdo na lista de \"todos_paragrafos\" o conteúdo de índice 2\n",
        "todos_paragrafos[1]"
      ],
      "metadata": {
        "colab": {
          "base_uri": "https://localhost:8080/"
        },
        "id": "Q-rzRszGjXRy",
        "outputId": "55e6abf1-8ab0-4038-ea22-585ad07e9c4d"
      },
      "execution_count": null,
      "outputs": [
        {
          "output_type": "execute_result",
          "data": {
            "text/plain": [
              "<p><b>TIOBE:</b> Python, C, Java and C++ are way ahead of others in TIOBE Index. C++ is about to surpass Java.\n",
              "C# and Visual Basic are very close to each other at 5th and 6th number. These four have negative\n",
              "trends in the past five years: Java, C, C#, and PHP. PHP was at 3rd position in Mar 2010 is now at 13th. \n",
              "Positions of Java and C have not been much affected, but their ratings are constantly declining. The rating\n",
              "of Java has declined from 26.49% in June 2001 to 10.47% in Jun 2022.</p>"
            ]
          },
          "metadata": {},
          "execution_count": 12
        }
      ]
    },
    {
      "cell_type": "code",
      "source": [
        "# buscando todos os links da página:\n",
        "\n",
        "todos_links = soup.find_all('a')\n",
        "todos_links"
      ],
      "metadata": {
        "colab": {
          "base_uri": "https://localhost:8080/"
        },
        "id": "tuFHkDSWjC90",
        "outputId": "793eeb01-68fc-457a-ed47-122bc36f4693"
      },
      "execution_count": null,
      "outputs": [
        {
          "output_type": "execute_result",
          "data": {
            "text/plain": [
              "[<a href=\"/index.php\">\n",
              " <img alt=\"statisticstimes\" height=\"90\" src=\"/statistics.png\" width=\"200\"/>\n",
              " </a>,\n",
              " <a href=\"/index.php\">World</a>,\n",
              " <a href=\"/india.php\">India</a>,\n",
              " <a href=\"/economy/world-statistics.php\">World</a>,\n",
              " <a href=\"/economy/country-statistics.php\">Country</a>,\n",
              " <a href=\"/economy/india-statistics.php\">India</a>,\n",
              " <a href=\"/demographics/world-statistics.php\">World</a>,\n",
              " <a href=\"/demographics/country-statistics.php\">Country</a>,\n",
              " <a href=\"/demographics/india-statistics.php\">India</a>,\n",
              " <a href=\"/health/coronavirus-statistics.php\">Coronavirus</a>,\n",
              " <a href=\"/politics/india-statistics.php\">India</a>,\n",
              " <a href=\"/geography/world-statistics.php\">World</a>,\n",
              " <a href=\"/geography/india-statistics.php\">India</a>,\n",
              " <a href=\"/tech/world-statistics.php\">Tech</a>,\n",
              " <a href=\"/sports/world-statistics.php\">World</a>,\n",
              " <a href=\"/sports/india-statistics.php\">India</a>,\n",
              " <a href=\"/ranking/world-statistics.php\">Ranking</a>,\n",
              " <a href=\"/article/world-statistics.php\">World</a>,\n",
              " <a href=\"/article/india-statistics.php\">India</a>,\n",
              " <a href=\"https://www.tiobe.com/tiobe-index/\" target=\"_blank\">TIOBE Index</a>,\n",
              " <a href=\"http://pypl.github.io/PYPL.html\" target=\"_blank\">PYPL PopularitY of Programming Language Index</a>,\n",
              " <a class=\"ls\" href=\"/sports/olympics/olympics-medal-table.php\">\n",
              "        Olympics Medal Table 2020</a>,\n",
              " <a class=\"ls\" href=\"/economy/continents-by-gdp-per-capita.php\">\n",
              "        List of continents by gdp per capita</a>,\n",
              " <a class=\"ls\" href=\"/demographics/world-urban-population.php\">\n",
              "        World urban population</a>,\n",
              " <a href=\"/about.php\" style=\"text-decoration: none;\"> About US</a>,\n",
              " <a href=\"/termsofuse.php\" style=\"text-decoration: none;\"> Terms Of Use </a>,\n",
              " <a href=\"/privacy.php\" style=\"text-decoration: none;\"> Privacy Policy </a>,\n",
              " <a href=\"/contact.php\" style=\"text-decoration: none;\"> Contact Us </a>]"
            ]
          },
          "metadata": {},
          "execution_count": 10
        }
      ]
    },
    {
      "cell_type": "code",
      "source": [
        "# Agora, inspecionar uma tabela específica do conteúdo da página. \n",
        "# Para isso, é necessário o id da tabela:\n",
        "\n",
        "tabela = soup.find('table', {'id': 'table_id1'}).find('tbody')\n",
        "tabela"
      ],
      "metadata": {
        "colab": {
          "base_uri": "https://localhost:8080/"
        },
        "id": "HF-Hpc-ejzFy",
        "outputId": "4f271a56-4fb9-43a6-dcd8-ee067fcc2a81"
      },
      "execution_count": null,
      "outputs": [
        {
          "output_type": "execute_result",
          "data": {
            "text/plain": [
              "<tbody>\n",
              "<tr><td class=\"data1\">1</td><td class=\"data1\"></td><td class=\"name\">Python</td><td class=\"data1\"> 27.61 %</td><td class=\"data1\">-2.8 %</td></tr>\n",
              "<tr><td class=\"data1\">2</td><td class=\"data1\"></td><td class=\"name\">Java</td><td class=\"data1\"> 17.64 %</td><td class=\"data1\">-0.7 %</td></tr>\n",
              "<tr><td class=\"data1\">3</td><td class=\"data1\"></td><td class=\"name\">JavaScript</td><td class=\"data1\"> 9.21 %</td><td class=\"data1\">+0.4 %</td></tr>\n",
              "<tr><td class=\"data1\">4</td><td class=\"data1\"></td><td class=\"name\">C#</td><td class=\"data1\"> 7.79 %</td><td class=\"data1\">+0.8 %</td></tr>\n",
              "<tr><td class=\"data1\">5</td><td class=\"data1\"></td><td class=\"name\">C/C++</td><td class=\"data1\"> 7.01 %</td><td class=\"data1\">+0.4 %</td></tr>\n",
              "<tr><td class=\"data1\">6</td><td class=\"data1\"></td><td class=\"name\">PHP</td><td class=\"data1\"> 5.27 %</td><td class=\"data1\">-1.0 %</td></tr>\n",
              "<tr><td class=\"data1\">7</td><td class=\"data1\"></td><td class=\"name\">R</td><td class=\"data1\"> 4.26 %</td><td class=\"data1\">+0.5 %</td></tr>\n",
              "<tr><td class=\"data1\">8</td><td class=\"data1\">↑↑↑</td><td class=\"name\">TypeScript</td><td class=\"data1\"> 2.43 %</td><td class=\"data1\">+0.7 %</td></tr>\n",
              "<tr><td class=\"data1\">9</td><td class=\"data1\">↓</td><td class=\"name\">Objective-C</td><td class=\"data1\"> 2.21 %</td><td class=\"data1\">+0.1 %</td></tr>\n",
              "<tr><td class=\"data1\">10</td><td class=\"data1\">↓</td><td class=\"name\">Swift</td><td class=\"data1\"> 2.17 %</td><td class=\"data1\">+0.4 %</td></tr>\n",
              "<tr><td class=\"data1\">11</td><td class=\"data1\">↑↑</td><td class=\"name\">Matlab</td><td class=\"data1\"> 1.71 %</td><td class=\"data1\">+0.2 %</td></tr>\n",
              "<tr><td class=\"data1\">12</td><td class=\"data1\">↓↓</td><td class=\"name\">Kotlin</td><td class=\"data1\"> 1.57 %</td><td class=\"data1\">-0.2 %</td></tr>\n",
              "<tr><td class=\"data1\">13</td><td class=\"data1\">↓</td><td class=\"name\">Go</td><td class=\"data1\"> 1.48 %</td><td class=\"data1\">+0.0 %</td></tr>\n",
              "<tr><td class=\"data1\">14</td><td class=\"data1\">↑↑</td><td class=\"name\">Rust</td><td class=\"data1\"> 1.29 %</td><td class=\"data1\">+0.4 %</td></tr>\n",
              "<tr><td class=\"data1\">15</td><td class=\"data1\"></td><td class=\"name\">Ruby</td><td class=\"data1\"> 1.1 %</td><td class=\"data1\">-0.0 %</td></tr>\n",
              "<tr><td class=\"data1\">16</td><td class=\"data1\">↓↓</td><td class=\"name\">VBA</td><td class=\"data1\"> 1.07 %</td><td class=\"data1\">-0.2 %</td></tr>\n",
              "<tr><td class=\"data1\">17</td><td class=\"data1\">↑↑</td><td class=\"name\">Ada</td><td class=\"data1\"> 0.95 %</td><td class=\"data1\">+0.4 %</td></tr>\n",
              "<tr><td class=\"data1\">18</td><td class=\"data1\">↑↑↑</td><td class=\"name\">Scala</td><td class=\"data1\"> 0.73 %</td><td class=\"data1\">+0.2 %</td></tr>\n",
              "<tr><td class=\"data1\">19</td><td class=\"data1\">↓↓</td><td class=\"name\">Visual Basic</td><td class=\"data1\"> 0.65 %</td><td class=\"data1\">-0.0 %</td></tr>\n",
              "<tr><td class=\"data1\">20</td><td class=\"data1\">↓↓</td><td class=\"name\">Dart</td><td class=\"data1\"> 0.64 %</td><td class=\"data1\">+0.0 %</td></tr>\n",
              "<tr><td class=\"data1\">21</td><td class=\"data1\">↑</td><td class=\"name\">Abap</td><td class=\"data1\"> 0.58 %</td><td class=\"data1\">+0.1 %</td></tr>\n",
              "<tr><td class=\"data1\">22</td><td class=\"data1\">↓↓</td><td class=\"name\">Lua</td><td class=\"data1\"> 0.51 %</td><td class=\"data1\">-0.0 %</td></tr>\n",
              "<tr><td class=\"data1\">23</td><td class=\"data1\">↑</td><td class=\"name\">Groovy</td><td class=\"data1\"> 0.48 %</td><td class=\"data1\">+0.1 %</td></tr>\n",
              "<tr><td class=\"data1\">24</td><td class=\"data1\">↓</td><td class=\"name\">Perl</td><td class=\"data1\"> 0.44 %</td><td class=\"data1\">+0.0 %</td></tr>\n",
              "<tr><td class=\"data1\">25</td><td class=\"data1\"></td><td class=\"name\">Julia</td><td class=\"data1\"> 0.41 %</td><td class=\"data1\">+0.0 %</td></tr>\n",
              "<tr><td class=\"data1\">26</td><td class=\"data1\"></td><td class=\"name\">Cobol</td><td class=\"data1\"> 0.34 %</td><td class=\"data1\">+0.1 %</td></tr>\n",
              "<tr><td class=\"data1\">27</td><td class=\"data1\"></td><td class=\"name\">Haskell</td><td class=\"data1\"> 0.29 %</td><td class=\"data1\">+0.1 %</td></tr>\n",
              "<tr><td class=\"data1\">28</td><td class=\"data1\"></td><td class=\"name\">Delphi/Pascal</td><td class=\"data1\"> 0.16 %</td><td class=\"data1\">+0.1 %</td></tr>\n",
              "</tbody>"
            ]
          },
          "metadata": {},
          "execution_count": 13
        }
      ]
    },
    {
      "cell_type": "code",
      "source": [
        "linguagem = [] # criando uma lista vazia para armazenar o nome das linguagens\n",
        "percentagem = [] # lista vazia para armazenar as percentagens\n",
        "\n",
        "for linha in linhas:\n",
        "    dado = linha.find_all('td')\n",
        "    linguagem.append(dado[2].text)\n",
        "    percentagem.append(dado[3].text)\n",
        "\n",
        "print(linguagem)\n",
        "print(percentagem)"
      ],
      "metadata": {
        "colab": {
          "base_uri": "https://localhost:8080/"
        },
        "id": "zjEFI8rmn4mx",
        "outputId": "89c80b15-65d8-4878-d825-2d60b7525718"
      },
      "execution_count": null,
      "outputs": [
        {
          "output_type": "stream",
          "name": "stdout",
          "text": [
            "['Python', 'Java', 'JavaScript', 'C#', 'C/C++', 'PHP', 'R', 'TypeScript', 'Objective-C', 'Swift', 'Matlab', 'Kotlin', 'Go', 'Rust', 'Ruby', 'VBA', 'Ada', 'Scala', 'Visual Basic', 'Dart', 'Abap', 'Lua', 'Groovy', 'Perl', 'Julia', 'Cobol', 'Haskell', 'Delphi/Pascal']\n",
            "[' 27.61 %', ' 17.64 %', ' 9.21 %', ' 7.79 %', ' 7.01 %', ' 5.27 %', ' 4.26 %', ' 2.43 %', ' 2.21 %', ' 2.17 %', ' 1.71 %', ' 1.57 %', ' 1.48 %', ' 1.29 %', ' 1.1 %', ' 1.07 %', ' 0.95 %', ' 0.73 %', ' 0.65 %', ' 0.64 %', ' 0.58 %', ' 0.51 %', ' 0.48 %', ' 0.44 %', ' 0.41 %', ' 0.34 %', ' 0.29 %', ' 0.16 %']\n"
          ]
        }
      ]
    },
    {
      "cell_type": "code",
      "source": [
        "dados = pd.DataFrame(linguagem, columns = [\"Linguagem\"]) # criando um dataframe com os nomes das linguagens\n"
      ],
      "metadata": {
        "id": "O4XpTRrmqu76"
      },
      "execution_count": null,
      "outputs": []
    },
    {
      "cell_type": "code",
      "source": [
        "dados['Percentagem'] = percentagem "
      ],
      "metadata": {
        "id": "9k7fzaoQq8l5"
      },
      "execution_count": null,
      "outputs": []
    },
    {
      "cell_type": "markdown",
      "source": [
        "A tabela a seguir é resultado da extração dos dados da página referenciada na célula 2."
      ],
      "metadata": {
        "id": "kljdwNvkwhS3"
      }
    },
    {
      "cell_type": "code",
      "source": [
        "dados"
      ],
      "metadata": {
        "colab": {
          "base_uri": "https://localhost:8080/",
          "height": 927
        },
        "id": "YKPLF3UFrDN9",
        "outputId": "667aab71-a55c-46e6-a0c8-99e6bbbc96aa"
      },
      "execution_count": null,
      "outputs": [
        {
          "output_type": "execute_result",
          "data": {
            "text/plain": [
              "        Linguagem Percentagem\n",
              "0          Python     27.61 %\n",
              "1            Java     17.64 %\n",
              "2      JavaScript      9.21 %\n",
              "3              C#      7.79 %\n",
              "4           C/C++      7.01 %\n",
              "5             PHP      5.27 %\n",
              "6               R      4.26 %\n",
              "7      TypeScript      2.43 %\n",
              "8     Objective-C      2.21 %\n",
              "9           Swift      2.17 %\n",
              "10         Matlab      1.71 %\n",
              "11         Kotlin      1.57 %\n",
              "12             Go      1.48 %\n",
              "13           Rust      1.29 %\n",
              "14           Ruby       1.1 %\n",
              "15            VBA      1.07 %\n",
              "16            Ada      0.95 %\n",
              "17          Scala      0.73 %\n",
              "18   Visual Basic      0.65 %\n",
              "19           Dart      0.64 %\n",
              "20           Abap      0.58 %\n",
              "21            Lua      0.51 %\n",
              "22         Groovy      0.48 %\n",
              "23           Perl      0.44 %\n",
              "24          Julia      0.41 %\n",
              "25          Cobol      0.34 %\n",
              "26        Haskell      0.29 %\n",
              "27  Delphi/Pascal      0.16 %"
            ],
            "text/html": [
              "\n",
              "  <div id=\"df-32ab352d-74ea-4d22-bfd3-962c705fdf18\">\n",
              "    <div class=\"colab-df-container\">\n",
              "      <div>\n",
              "<style scoped>\n",
              "    .dataframe tbody tr th:only-of-type {\n",
              "        vertical-align: middle;\n",
              "    }\n",
              "\n",
              "    .dataframe tbody tr th {\n",
              "        vertical-align: top;\n",
              "    }\n",
              "\n",
              "    .dataframe thead th {\n",
              "        text-align: right;\n",
              "    }\n",
              "</style>\n",
              "<table border=\"1\" class=\"dataframe\">\n",
              "  <thead>\n",
              "    <tr style=\"text-align: right;\">\n",
              "      <th></th>\n",
              "      <th>Linguagem</th>\n",
              "      <th>Percentagem</th>\n",
              "    </tr>\n",
              "  </thead>\n",
              "  <tbody>\n",
              "    <tr>\n",
              "      <th>0</th>\n",
              "      <td>Python</td>\n",
              "      <td>27.61 %</td>\n",
              "    </tr>\n",
              "    <tr>\n",
              "      <th>1</th>\n",
              "      <td>Java</td>\n",
              "      <td>17.64 %</td>\n",
              "    </tr>\n",
              "    <tr>\n",
              "      <th>2</th>\n",
              "      <td>JavaScript</td>\n",
              "      <td>9.21 %</td>\n",
              "    </tr>\n",
              "    <tr>\n",
              "      <th>3</th>\n",
              "      <td>C#</td>\n",
              "      <td>7.79 %</td>\n",
              "    </tr>\n",
              "    <tr>\n",
              "      <th>4</th>\n",
              "      <td>C/C++</td>\n",
              "      <td>7.01 %</td>\n",
              "    </tr>\n",
              "    <tr>\n",
              "      <th>5</th>\n",
              "      <td>PHP</td>\n",
              "      <td>5.27 %</td>\n",
              "    </tr>\n",
              "    <tr>\n",
              "      <th>6</th>\n",
              "      <td>R</td>\n",
              "      <td>4.26 %</td>\n",
              "    </tr>\n",
              "    <tr>\n",
              "      <th>7</th>\n",
              "      <td>TypeScript</td>\n",
              "      <td>2.43 %</td>\n",
              "    </tr>\n",
              "    <tr>\n",
              "      <th>8</th>\n",
              "      <td>Objective-C</td>\n",
              "      <td>2.21 %</td>\n",
              "    </tr>\n",
              "    <tr>\n",
              "      <th>9</th>\n",
              "      <td>Swift</td>\n",
              "      <td>2.17 %</td>\n",
              "    </tr>\n",
              "    <tr>\n",
              "      <th>10</th>\n",
              "      <td>Matlab</td>\n",
              "      <td>1.71 %</td>\n",
              "    </tr>\n",
              "    <tr>\n",
              "      <th>11</th>\n",
              "      <td>Kotlin</td>\n",
              "      <td>1.57 %</td>\n",
              "    </tr>\n",
              "    <tr>\n",
              "      <th>12</th>\n",
              "      <td>Go</td>\n",
              "      <td>1.48 %</td>\n",
              "    </tr>\n",
              "    <tr>\n",
              "      <th>13</th>\n",
              "      <td>Rust</td>\n",
              "      <td>1.29 %</td>\n",
              "    </tr>\n",
              "    <tr>\n",
              "      <th>14</th>\n",
              "      <td>Ruby</td>\n",
              "      <td>1.1 %</td>\n",
              "    </tr>\n",
              "    <tr>\n",
              "      <th>15</th>\n",
              "      <td>VBA</td>\n",
              "      <td>1.07 %</td>\n",
              "    </tr>\n",
              "    <tr>\n",
              "      <th>16</th>\n",
              "      <td>Ada</td>\n",
              "      <td>0.95 %</td>\n",
              "    </tr>\n",
              "    <tr>\n",
              "      <th>17</th>\n",
              "      <td>Scala</td>\n",
              "      <td>0.73 %</td>\n",
              "    </tr>\n",
              "    <tr>\n",
              "      <th>18</th>\n",
              "      <td>Visual Basic</td>\n",
              "      <td>0.65 %</td>\n",
              "    </tr>\n",
              "    <tr>\n",
              "      <th>19</th>\n",
              "      <td>Dart</td>\n",
              "      <td>0.64 %</td>\n",
              "    </tr>\n",
              "    <tr>\n",
              "      <th>20</th>\n",
              "      <td>Abap</td>\n",
              "      <td>0.58 %</td>\n",
              "    </tr>\n",
              "    <tr>\n",
              "      <th>21</th>\n",
              "      <td>Lua</td>\n",
              "      <td>0.51 %</td>\n",
              "    </tr>\n",
              "    <tr>\n",
              "      <th>22</th>\n",
              "      <td>Groovy</td>\n",
              "      <td>0.48 %</td>\n",
              "    </tr>\n",
              "    <tr>\n",
              "      <th>23</th>\n",
              "      <td>Perl</td>\n",
              "      <td>0.44 %</td>\n",
              "    </tr>\n",
              "    <tr>\n",
              "      <th>24</th>\n",
              "      <td>Julia</td>\n",
              "      <td>0.41 %</td>\n",
              "    </tr>\n",
              "    <tr>\n",
              "      <th>25</th>\n",
              "      <td>Cobol</td>\n",
              "      <td>0.34 %</td>\n",
              "    </tr>\n",
              "    <tr>\n",
              "      <th>26</th>\n",
              "      <td>Haskell</td>\n",
              "      <td>0.29 %</td>\n",
              "    </tr>\n",
              "    <tr>\n",
              "      <th>27</th>\n",
              "      <td>Delphi/Pascal</td>\n",
              "      <td>0.16 %</td>\n",
              "    </tr>\n",
              "  </tbody>\n",
              "</table>\n",
              "</div>\n",
              "      <button class=\"colab-df-convert\" onclick=\"convertToInteractive('df-32ab352d-74ea-4d22-bfd3-962c705fdf18')\"\n",
              "              title=\"Convert this dataframe to an interactive table.\"\n",
              "              style=\"display:none;\">\n",
              "        \n",
              "  <svg xmlns=\"http://www.w3.org/2000/svg\" height=\"24px\"viewBox=\"0 0 24 24\"\n",
              "       width=\"24px\">\n",
              "    <path d=\"M0 0h24v24H0V0z\" fill=\"none\"/>\n",
              "    <path d=\"M18.56 5.44l.94 2.06.94-2.06 2.06-.94-2.06-.94-.94-2.06-.94 2.06-2.06.94zm-11 1L8.5 8.5l.94-2.06 2.06-.94-2.06-.94L8.5 2.5l-.94 2.06-2.06.94zm10 10l.94 2.06.94-2.06 2.06-.94-2.06-.94-.94-2.06-.94 2.06-2.06.94z\"/><path d=\"M17.41 7.96l-1.37-1.37c-.4-.4-.92-.59-1.43-.59-.52 0-1.04.2-1.43.59L10.3 9.45l-7.72 7.72c-.78.78-.78 2.05 0 2.83L4 21.41c.39.39.9.59 1.41.59.51 0 1.02-.2 1.41-.59l7.78-7.78 2.81-2.81c.8-.78.8-2.07 0-2.86zM5.41 20L4 18.59l7.72-7.72 1.47 1.35L5.41 20z\"/>\n",
              "  </svg>\n",
              "      </button>\n",
              "      \n",
              "  <style>\n",
              "    .colab-df-container {\n",
              "      display:flex;\n",
              "      flex-wrap:wrap;\n",
              "      gap: 12px;\n",
              "    }\n",
              "\n",
              "    .colab-df-convert {\n",
              "      background-color: #E8F0FE;\n",
              "      border: none;\n",
              "      border-radius: 50%;\n",
              "      cursor: pointer;\n",
              "      display: none;\n",
              "      fill: #1967D2;\n",
              "      height: 32px;\n",
              "      padding: 0 0 0 0;\n",
              "      width: 32px;\n",
              "    }\n",
              "\n",
              "    .colab-df-convert:hover {\n",
              "      background-color: #E2EBFA;\n",
              "      box-shadow: 0px 1px 2px rgba(60, 64, 67, 0.3), 0px 1px 3px 1px rgba(60, 64, 67, 0.15);\n",
              "      fill: #174EA6;\n",
              "    }\n",
              "\n",
              "    [theme=dark] .colab-df-convert {\n",
              "      background-color: #3B4455;\n",
              "      fill: #D2E3FC;\n",
              "    }\n",
              "\n",
              "    [theme=dark] .colab-df-convert:hover {\n",
              "      background-color: #434B5C;\n",
              "      box-shadow: 0px 1px 3px 1px rgba(0, 0, 0, 0.15);\n",
              "      filter: drop-shadow(0px 1px 2px rgba(0, 0, 0, 0.3));\n",
              "      fill: #FFFFFF;\n",
              "    }\n",
              "  </style>\n",
              "\n",
              "      <script>\n",
              "        const buttonEl =\n",
              "          document.querySelector('#df-32ab352d-74ea-4d22-bfd3-962c705fdf18 button.colab-df-convert');\n",
              "        buttonEl.style.display =\n",
              "          google.colab.kernel.accessAllowed ? 'block' : 'none';\n",
              "\n",
              "        async function convertToInteractive(key) {\n",
              "          const element = document.querySelector('#df-32ab352d-74ea-4d22-bfd3-962c705fdf18');\n",
              "          const dataTable =\n",
              "            await google.colab.kernel.invokeFunction('convertToInteractive',\n",
              "                                                     [key], {});\n",
              "          if (!dataTable) return;\n",
              "\n",
              "          const docLinkHtml = 'Like what you see? Visit the ' +\n",
              "            '<a target=\"_blank\" href=https://colab.research.google.com/notebooks/data_table.ipynb>data table notebook</a>'\n",
              "            + ' to learn more about interactive tables.';\n",
              "          element.innerHTML = '';\n",
              "          dataTable['output_type'] = 'display_data';\n",
              "          await google.colab.output.renderOutput(dataTable, element);\n",
              "          const docLink = document.createElement('div');\n",
              "          docLink.innerHTML = docLinkHtml;\n",
              "          element.appendChild(docLink);\n",
              "        }\n",
              "      </script>\n",
              "    </div>\n",
              "  </div>\n",
              "  "
            ]
          },
          "metadata": {},
          "execution_count": 39
        }
      ]
    }
  ]
}